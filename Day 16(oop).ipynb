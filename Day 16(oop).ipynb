{
 "cells": [
  {
   "cell_type": "code",
   "execution_count": 3,
   "metadata": {},
   "outputs": [],
   "source": [
    "class Hello:\n",
    "    pass\n",
    "obj=Hello()"
   ]
  },
  {
   "cell_type": "code",
   "execution_count": 4,
   "metadata": {},
   "outputs": [
    {
     "name": "stdout",
     "output_type": "stream",
     "text": [
      "Hello World\n"
     ]
    }
   ],
   "source": [
    "class Hello:\n",
    "    print(\"Hello World\")\n",
    "obj=Hello()"
   ]
  },
  {
   "cell_type": "code",
   "execution_count": 10,
   "metadata": {},
   "outputs": [
    {
     "name": "stdout",
     "output_type": "stream",
     "text": [
      "Hello world\n"
     ]
    }
   ],
   "source": [
    "class Hello:\n",
    "    def hello(self): \n",
    "        print(\"Hello world\")\n",
    "obj=Hello()\n",
    "obj.hello()  "
   ]
  },
  {
   "cell_type": "code",
   "execution_count": 18,
   "metadata": {
    "scrolled": true
   },
   "outputs": [
    {
     "name": "stdout",
     "output_type": "stream",
     "text": [
      "enter l = 4\n",
      "enter b =4\n",
      "enter h =4\n",
      "the area is = 16\n",
      "the volume is=  64\n"
     ]
    }
   ],
   "source": [
    "class Cal:\n",
    "    def area(self,l,b):\n",
    "        a=l*b\n",
    "        print(\"the area is =\",a)\n",
    "    def volume(self,l,b,h):\n",
    "        v=l*b*h\n",
    "        print(\"the volume is= \",v)\n",
    "obj =Cal()\n",
    "l=int(input(\"enter l = \"))\n",
    "b=int(input(\"enter b =\" ))\n",
    "h=int(input(\"enter h =\" ))\n",
    "obj.area(l,b)\n",
    "obj.volume(l,b,h)"
   ]
  },
  {
   "cell_type": "code",
   "execution_count": 20,
   "metadata": {},
   "outputs": [
    {
     "name": "stdout",
     "output_type": "stream",
     "text": [
      "enter l = 2\n",
      "enter b =2\n",
      "enter h =2\n",
      "the area is = 4\n",
      "the volume is=  8\n"
     ]
    }
   ],
   "source": [
    "class Area:\n",
    "    def area(self,l,b):\n",
    "        a=l*b\n",
    "        print(\"the area is =\",a)\n",
    "class Volume:\n",
    "    def volume(self,l,b,h):\n",
    "        v=l*b*h\n",
    "        print(\"the volume is= \",v)\n",
    "obj =Area()\n",
    "obj1 =Volume()\n",
    "\n",
    "l=int(input(\"enter l = \"))\n",
    "b=int(input(\"enter b =\" ))\n",
    "h=int(input(\"enter h =\" ))\n",
    "obj.area(l,b)\n",
    "obj1.volume(l,b,h)"
   ]
  },
  {
   "cell_type": "code",
   "execution_count": 25,
   "metadata": {},
   "outputs": [
    {
     "name": "stdout",
     "output_type": "stream",
     "text": [
      "enter l = 2\n",
      "enter b =2\n",
      "enter h =2\n",
      "the area is = 4\n",
      "the volume is=  8\n"
     ]
    }
   ],
   "source": [
    "class Cal:\n",
    "    def __init__(self,l,b,h):\n",
    "        self.l=l\n",
    "        self.b=b\n",
    "        self.h=h\n",
    "    def area(self):\n",
    "        a=self.l*self.b\n",
    "        print(\"the area is =\",a)\n",
    "    def volume(self):\n",
    "        v=self.l*self.b*self.h\n",
    "        print(\"the volume is= \",v)\n",
    "l=int(input(\"enter l = \"))\n",
    "b=int(input(\"enter b =\" ))\n",
    "h=int(input(\"enter h =\" ))\n",
    "obj =Cal(l,b,h)\n",
    "obj.area()\n",
    "obj.volume()"
   ]
  },
  {
   "cell_type": "code",
   "execution_count": 27,
   "metadata": {},
   "outputs": [
    {
     "name": "stdout",
     "output_type": "stream",
     "text": [
      "enter l = 2\n",
      "enter b =2\n",
      "enter h =2\n",
      "the area is = 4\n",
      "the volume is=  8\n"
     ]
    }
   ],
   "source": [
    "class Cal:\n",
    "    def __init__(self,l,b,h):\n",
    "        self.l=l\n",
    "        self.b=b\n",
    "        \n",
    "    def area(self):\n",
    "        a=self.l*self.b\n",
    "        print(\"the area is =\",a)\n",
    "    def volume(self,z):\n",
    "        v=self.l*self.b*z\n",
    "        print(\"the volume is= \",v)\n",
    "l=int(input(\"enter l = \"))\n",
    "b=int(input(\"enter b =\" ))\n",
    "h=int(input(\"enter h =\" ))\n",
    "obj =Cal(l,b,h)\n",
    "obj.area()\n",
    "obj.volume(h)"
   ]
  },
  {
   "cell_type": "code",
   "execution_count": 35,
   "metadata": {},
   "outputs": [
    {
     "name": "stdout",
     "output_type": "stream",
     "text": [
      "enter l = 2\n",
      "enter b =2\n",
      "enter h =2\n",
      "the area is = 4\n",
      "the volume is=  8\n"
     ]
    }
   ],
   "source": [
    "class Area:\n",
    "    def __init__(self,l,b):\n",
    "        self.x=l\n",
    "        self.y=b\n",
    "        \n",
    "    def area(self):\n",
    "        a=self.x*self.y\n",
    "        print(\"the area is =\",a)\n",
    "class Volume:\n",
    "    def __init__(self,l,b,h):\n",
    "        self.x=l\n",
    "        self.y=b\n",
    "        self.z=h\n",
    "    def volume(this):\n",
    "        \n",
    "        v=this.x*this.y*this.z\n",
    "        print(\"the volume is= \",v)\n",
    "l=int(input(\"enter l = \"))\n",
    "b=int(input(\"enter b =\" ))\n",
    "h=int(input(\"enter h =\" ))\n",
    "obj =Area(l,b)\n",
    "obj1=Volume(l,b,h)\n",
    "obj.area()\n",
    "obj1.volume()"
   ]
  },
  {
   "cell_type": "code",
   "execution_count": 64,
   "metadata": {},
   "outputs": [
    {
     "name": "stdout",
     "output_type": "stream",
     "text": [
      "Ram--15\n"
     ]
    }
   ],
   "source": [
    "class Info:\n",
    "    def __init__(self,name,age,address):\n",
    "        self.name=name\n",
    "        self.age=age\n",
    "        self.address=address\n",
    "    def __str__(self):\n",
    "        return f\"{self.name}--{self.age}\"\n",
    "         \n",
    "            \n",
    "name=\"Ram\"\n",
    "age=15\n",
    "address=\"ktm\"\n",
    "obj=Info(name,age,address)\n",
    "print(obj)\n"
   ]
  },
  {
   "cell_type": "code",
   "execution_count": 60,
   "metadata": {},
   "outputs": [
    {
     "name": "stdout",
     "output_type": "stream",
     "text": [
      "{'Name': 'Ram'}\n"
     ]
    }
   ],
   "source": [
    "class Info:\n",
    "    def __init__(self,name,age,address):\n",
    "        self.name=name\n",
    "        self.age=age\n",
    "        self.address=address\n",
    "    def __repr__(self):\n",
    "           return {\"Name\":self.name}\n",
    "            \n",
    "name=\"Ram\"\n",
    "age=15\n",
    "address=\"ktm\"\n",
    "obj=Info(name,age,address)\n",
    "print(obj.__repr__())"
   ]
  },
  {
   "cell_type": "code",
   "execution_count": null,
   "metadata": {},
   "outputs": [],
   "source": []
  }
 ],
 "metadata": {
  "kernelspec": {
   "display_name": "Python 3",
   "language": "python",
   "name": "python3"
  },
  "language_info": {
   "codemirror_mode": {
    "name": "ipython",
    "version": 3
   },
   "file_extension": ".py",
   "mimetype": "text/x-python",
   "name": "python",
   "nbconvert_exporter": "python",
   "pygments_lexer": "ipython3",
   "version": "3.8.5"
  }
 },
 "nbformat": 4,
 "nbformat_minor": 4
}
