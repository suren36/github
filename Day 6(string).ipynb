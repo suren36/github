{
 "cells": [
  {
   "cell_type": "code",
   "execution_count": 6,
   "metadata": {},
   "outputs": [
    {
     "ename": "TypeError",
     "evalue": "'str' object is not callable",
     "output_type": "error",
     "traceback": [
      "\u001b[1;31m---------------------------------------------------------------------------\u001b[0m",
      "\u001b[1;31mTypeError\u001b[0m                                 Traceback (most recent call last)",
      "\u001b[1;32m<ipython-input-6-78327f23db08>\u001b[0m in \u001b[0;36m<module>\u001b[1;34m\u001b[0m\n\u001b[0;32m      1\u001b[0m \u001b[0ma\u001b[0m\u001b[1;33m=\u001b[0m\u001b[1;34m\"hello world\"\u001b[0m\u001b[1;33m\u001b[0m\u001b[1;33m\u001b[0m\u001b[0m\n\u001b[0;32m      2\u001b[0m \u001b[0mb\u001b[0m\u001b[1;33m=\u001b[0m\u001b[1;34m\"lol\"\u001b[0m\u001b[1;33m\u001b[0m\u001b[1;33m\u001b[0m\u001b[0m\n\u001b[1;32m----> 3\u001b[1;33m \u001b[0mprint\u001b[0m\u001b[1;33m(\u001b[0m\u001b[0ma\u001b[0m\u001b[1;33m+\u001b[0m\u001b[0mb\u001b[0m\u001b[1;33m)\u001b[0m\u001b[1;33m\u001b[0m\u001b[1;33m\u001b[0m\u001b[0m\n\u001b[0m",
      "\u001b[1;31mTypeError\u001b[0m: 'str' object is not callable"
     ]
    }
   ],
   "source": [
    "a=\"hello world\"\n",
    "b=\"lol\"\n",
    "print(a+b)\n"
   ]
  },
  {
   "cell_type": "code",
   "execution_count": 1,
   "metadata": {},
   "outputs": [
    {
     "name": "stdout",
     "output_type": "stream",
     "text": [
      "n\n"
     ]
    }
   ],
   "source": [
    "a=\"python\"\n",
    "print(a[-1])"
   ]
  },
  {
   "cell_type": "code",
   "execution_count": 3,
   "metadata": {},
   "outputs": [
    {
     "name": "stdout",
     "output_type": "stream",
     "text": [
      "heloo this \n"
     ]
    }
   ],
   "source": [
    "a=\"heloo this is python\"\n",
    "print(a[0:11])"
   ]
  },
  {
   "cell_type": "code",
   "execution_count": 4,
   "metadata": {},
   "outputs": [
    {
     "name": "stdout",
     "output_type": "stream",
     "text": [
      "heloo\n",
      " this\n"
     ]
    }
   ],
   "source": [
    "a=\"heloo this is python\"\n",
    "print(a[0:5])\n",
    "print(a[5:10])"
   ]
  },
  {
   "cell_type": "code",
   "execution_count": 14,
   "metadata": {},
   "outputs": [
    {
     "name": "stdout",
     "output_type": "stream",
     "text": [
      " ooleh this i  pytho\n"
     ]
    }
   ],
   "source": [
    "a=\"heloo this is python\"\n",
    "print(a[5::-1],a[6:10],a[11::-14],a[13:-1])"
   ]
  },
  {
   "cell_type": "code",
   "execution_count": 19,
   "metadata": {},
   "outputs": [
    {
     "name": "stdout",
     "output_type": "stream",
     "text": [
      "applebpple\n"
     ]
    }
   ],
   "source": [
    "#stinf function\n",
    "a=\"apple\"\n",
    "b=\"bpple\"\n",
    "c=f\"{a}{b}\"\n",
    "print(c)"
   ]
  },
  {
   "cell_type": "code",
   "execution_count": 20,
   "metadata": {},
   "outputs": [
    {
     "name": "stdout",
     "output_type": "stream",
     "text": [
      "ENter name = sda\n",
      "enter age = 45\n",
      "Enter add= dsa\n",
      "hello my name is sda.I am from dsa.I am 45\n"
     ]
    }
   ],
   "source": [
    "name=input(\"ENter name = \")\n",
    "age=int(input(\"enter age = \"))\n",
    "add=input(\"Enter add= \")\n",
    "info=f\"hello my name is {name}.I am from {add}.I am {age}\"\n",
    "print(info)"
   ]
  },
  {
   "cell_type": "code",
   "execution_count": 24,
   "metadata": {},
   "outputs": [
    {
     "name": "stdout",
     "output_type": "stream",
     "text": [
      "Enter n= 1\n",
      "enter name = sd\n",
      "enter phn= 45\n",
      "sd--45\n"
     ]
    }
   ],
   "source": [
    "s=\"\"\n",
    "n=int(input(\"Enter n= \"))\n",
    "for i in range(n):\n",
    "    name = input (\"enter name = \")\n",
    "    phone = int(input(\"enter phn= \"))\n",
    "    info= f\"{name}--{phone}\"\n",
    "    s=s+info\n",
    "print(s)"
   ]
  },
  {
   "cell_type": "code",
   "execution_count": 32,
   "metadata": {},
   "outputs": [
    {
     "name": "stdout",
     "output_type": "stream",
     "text": [
      "yes 1\n"
     ]
    }
   ],
   "source": [
    "a=\"hello my name is ram.I a from kathmandu.I am 34\"\n",
    "if \"ram\"in a:\n",
    "    print(\"yes\",a.count(\"ram\"))\n",
    "else:\n",
    "    print(\"no\")\n",
    "        "
   ]
  },
  {
   "cell_type": "code",
   "execution_count": 38,
   "metadata": {},
   "outputs": [
    {
     "name": "stdout",
     "output_type": "stream",
     "text": [
      "Enter value= ram\n",
      "yes 1\n"
     ]
    }
   ],
   "source": [
    "a=\"hello my name is ram.I a from kathmandu.I am 34\".upper()\n",
    "value=input(\"Enter value= \").upper()\n",
    "if value in a:\n",
    "    print(\"yes\",a.count(value))\n",
    "else:\n",
    "    print(\"no\")\n",
    "        "
   ]
  },
  {
   "cell_type": "code",
   "execution_count": 47,
   "metadata": {},
   "outputs": [
    {
     "name": "stdout",
     "output_type": "stream",
     "text": [
      "Hari--988987\n",
      "shyam--9845646\n"
     ]
    }
   ],
   "source": [
    "a=\"ram--988987\\nshyam--9845646\"\n",
    "a=a.replace('ram','Hari')\n",
    "print(a)"
   ]
  },
  {
   "cell_type": "code",
   "execution_count": 51,
   "metadata": {},
   "outputs": [
    {
     "data": {
      "text/plain": [
       "['he', '', 'o wor', 'd']"
      ]
     },
     "execution_count": 51,
     "metadata": {},
     "output_type": "execute_result"
    }
   ],
   "source": [
    "a=\"hello world\"\n",
    "a.split(\"l\")"
   ]
  },
  {
   "cell_type": "code",
   "execution_count": 52,
   "metadata": {},
   "outputs": [],
   "source": [
    "# WAP for billing system\n",
    "# # WAP for result management system//"
   ]
  },
  {
   "cell_type": "code",
   "execution_count": 2,
   "metadata": {},
   "outputs": [
    {
     "name": "stdout",
     "output_type": "stream",
     "text": [
      "Enter number of student n= 1\n",
      "enter name = jk\n",
      "enter maraks= 1\n",
      "enter maraks= 1\n",
      "enter maraks= 1\n",
      "enter maraks= 1\n",
      "enter maraks= 1\n",
      "enter roll no = 1\n",
      "f\n",
      "5\n",
      "1.0\n"
     ]
    }
   ],
   "source": [
    "\n",
    "s=\"\"\n",
    "n=int(input(\"Enter number of student n= \"))\n",
    "for i in range(n):\n",
    "    name = input (\"enter name = \")\n",
    "    english= int(input(\"enter maraks= \"))\n",
    "    maths= int(input(\"enter maraks= \"))\n",
    "    neplai= int(input(\"enter maraks= \"))\n",
    "    science= int(input(\"enter maraks= \"))\n",
    "    account=int(input(\"enter maraks= \"))\n",
    "    roll=int(input(\"enter roll no = \"))\n",
    "    \n",
    "    marks= english+maths+neplai+science+account\n",
    "    per=marks/5\n",
    "    if per<40:\n",
    "        print(\"p\")\n",
    "    else:\n",
    "        print(\"f\")\n",
    "    if per<50:\n",
    "        print(\"p\")\n",
    "    else:\n",
    "        print(\"f\")\n",
    "     \n",
    "    \n",
    "  \n",
    "    print(marks)\n",
    "    print(per)"
   ]
  },
  {
   "cell_type": "code",
   "execution_count": null,
   "metadata": {},
   "outputs": [],
   "source": []
  }
 ],
 "metadata": {
  "kernelspec": {
   "display_name": "Python 3",
   "language": "python",
   "name": "python3"
  },
  "language_info": {
   "codemirror_mode": {
    "name": "ipython",
    "version": 3
   },
   "file_extension": ".py",
   "mimetype": "text/x-python",
   "name": "python",
   "nbconvert_exporter": "python",
   "pygments_lexer": "ipython3",
   "version": "3.8.5"
  }
 },
 "nbformat": 4,
 "nbformat_minor": 4
}
