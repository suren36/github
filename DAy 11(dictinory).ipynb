{
 "cells": [
  {
   "cell_type": "code",
   "execution_count": 1,
   "metadata": {},
   "outputs": [
    {
     "data": {
      "text/plain": [
       "'apple'"
      ]
     },
     "execution_count": 1,
     "metadata": {},
     "output_type": "execute_result"
    }
   ],
   "source": [
    "d={\"a\":\"apple\"}\n",
    "d[\"a\"]"
   ]
  },
  {
   "cell_type": "code",
   "execution_count": 2,
   "metadata": {},
   "outputs": [],
   "source": [
    "# Mutable\n",
    "# indexed\n",
    "# ordered\n",
    "# duplicate"
   ]
  },
  {
   "cell_type": "code",
   "execution_count": 3,
   "metadata": {},
   "outputs": [
    {
     "data": {
      "text/plain": [
       "{'A': 'apple', 'B': 'ball'}"
      ]
     },
     "execution_count": 3,
     "metadata": {},
     "output_type": "execute_result"
    }
   ],
   "source": [
    "d={}\n",
    "d[\"A\"]=\"apple\"\n",
    "d[\"B\"]=\"ball\"\n",
    "d"
   ]
  },
  {
   "cell_type": "code",
   "execution_count": 6,
   "metadata": {},
   "outputs": [
    {
     "data": {
      "text/plain": [
       "{0: 'apple', 1: 'ball'}"
      ]
     },
     "execution_count": 6,
     "metadata": {},
     "output_type": "execute_result"
    }
   ],
   "source": [
    "d={}\n",
    "d[0]=\"apple\"\n",
    "d[1]=\"ball\"\n",
    "d"
   ]
  },
  {
   "cell_type": "code",
   "execution_count": 7,
   "metadata": {},
   "outputs": [
    {
     "data": {
      "text/plain": [
       "'apple'"
      ]
     },
     "execution_count": 7,
     "metadata": {},
     "output_type": "execute_result"
    }
   ],
   "source": [
    "d[0]"
   ]
  },
  {
   "cell_type": "code",
   "execution_count": 13,
   "metadata": {},
   "outputs": [
    {
     "name": "stdout",
     "output_type": "stream",
     "text": [
      "ENTER name= ds\n",
      "enter phone number= 2\n",
      "ENTER name= sd\n",
      "enter phone number= 2\n",
      "{'ds': 2, 'sd': 2}\n"
     ]
    }
   ],
   "source": [
    "info={}\n",
    "for  i in range(2):\n",
    "    name=input(\"ENTER name= \")\n",
    "    phone=int(input(\"enter phone number= \"))\n",
    "    info[name]=phone\n",
    "print(info)"
   ]
  },
  {
   "cell_type": "code",
   "execution_count": 27,
   "metadata": {},
   "outputs": [
    {
     "name": "stdout",
     "output_type": "stream",
     "text": [
      "{'a': 'apple', 'c': 'cat', 'b': 'ball'}\n"
     ]
    },
    {
     "data": {
      "text/plain": [
       "[('a', 'apple'), ('b', 'ball'), ('c', 'cat')]"
      ]
     },
     "execution_count": 27,
     "metadata": {},
     "output_type": "execute_result"
    }
   ],
   "source": [
    "a={\"a\":\"apple\",\"c\":\"cat\"}\n",
    "b={\"b\":\"ball\"}\n",
    "a.update(b)\n",
    "print(a)\n",
    "sorted(a.items())"
   ]
  },
  {
   "cell_type": "code",
   "execution_count": 22,
   "metadata": {},
   "outputs": [
    {
     "name": "stdout",
     "output_type": "stream",
     "text": [
      "apple\n",
      "cat\n",
      "ball\n"
     ]
    }
   ],
   "source": [
    "for i in a.values():\n",
    "    print(i)"
   ]
  },
  {
   "cell_type": "code",
   "execution_count": 26,
   "metadata": {},
   "outputs": [
    {
     "name": "stdout",
     "output_type": "stream",
     "text": [
      "('a', 'apple')\n",
      "('c', 'cat')\n",
      "('b', 'ball')\n"
     ]
    },
    {
     "data": {
      "text/plain": [
       "[('a', 'apple'), ('b', 'ball'), ('c', 'cat')]"
      ]
     },
     "execution_count": 26,
     "metadata": {},
     "output_type": "execute_result"
    }
   ],
   "source": [
    "for i in a.items():\n",
    "    print(i)\n",
    "sorted(a.items())"
   ]
  },
  {
   "cell_type": "code",
   "execution_count": 28,
   "metadata": {},
   "outputs": [],
   "source": [
    "# update clear del pop"
   ]
  },
  {
   "cell_type": "code",
   "execution_count": 34,
   "metadata": {},
   "outputs": [
    {
     "name": "stdout",
     "output_type": "stream",
     "text": [
      "{}\n"
     ]
    }
   ],
   "source": [
    "a={\"a\":\"apple\",\"c\":\"cat\"}\n",
    "a.clear()\n",
    "print(a)"
   ]
  },
  {
   "cell_type": "code",
   "execution_count": 56,
   "metadata": {},
   "outputs": [
    {
     "name": "stdout",
     "output_type": "stream",
     "text": [
      "cat\n"
     ]
    }
   ],
   "source": [
    "s={\"a\":\"apple\",\"c\":\"cat\"}\n",
    "\n",
    "print(a[\"c\"])\n"
   ]
  },
  {
   "cell_type": "code",
   "execution_count": 44,
   "metadata": {},
   "outputs": [
    {
     "name": "stdout",
     "output_type": "stream",
     "text": [
      "enter name= ghf\n",
      "enter phn =65\n",
      "enter ntc ohn= 6\n",
      "enter name= gh\n",
      "enter phn =45\n",
      "enter ntc ohn= 4\n",
      "{'ghf': [65, 6], 'gh': [45, 4]}\n"
     ]
    }
   ],
   "source": [
    "info={}\n",
    "for i in range(2):\n",
    "    name =input(\"enter name= \")\n",
    "    ncel_phone=int(input(\"enter phn =\"))\n",
    "    ntc_phone=int(input(\"enter ntc ohn= \"))\n",
    "    info[name]=[ncel_phone,ntc_phone]\n",
    "print(info)"
   ]
  },
  {
   "cell_type": "code",
   "execution_count": 58,
   "metadata": {},
   "outputs": [
    {
     "data": {
      "text/plain": [
       "{'A': 'apple', 'B': 'ball'}"
      ]
     },
     "execution_count": 58,
     "metadata": {},
     "output_type": "execute_result"
    }
   ],
   "source": [
    "b={}\n",
    "a={\"a\":\"apple\",\"b\":\"ball\"}\n",
    "for i in a.items():\n",
    "    key=i[0].upper()\n",
    "    value=i[1]\n",
    "    b[key]=value\n",
    "b"
   ]
  },
  {
   "cell_type": "code",
   "execution_count": 60,
   "metadata": {},
   "outputs": [
    {
     "data": {
      "text/plain": [
       "'apple'"
      ]
     },
     "execution_count": 60,
     "metadata": {},
     "output_type": "execute_result"
    }
   ],
   "source": [
    "b={}\n",
    "a={\"a\":\"apple\",\"b\":\"ball\"}\n",
    "a.pop(\"a\")"
   ]
  },
  {
   "cell_type": "code",
   "execution_count": 63,
   "metadata": {},
   "outputs": [
    {
     "data": {
      "text/plain": [
       "{'a': 'apple'}"
      ]
     },
     "execution_count": 63,
     "metadata": {},
     "output_type": "execute_result"
    }
   ],
   "source": [
    "b={}\n",
    "a={\"a\":\"apple\",\"b\":\"ball\"}\n",
    "for i in a.items():\n",
    "    key=i[0]\n",
    "    if key==\"a\":\n",
    "        value=i[1]\n",
    "        b[key]=value\n",
    "b"
   ]
  },
  {
   "cell_type": "code",
   "execution_count": 87,
   "metadata": {},
   "outputs": [
    {
     "name": "stdout",
     "output_type": "stream",
     "text": [
      "[['a', 'apple'], ['b', 'ball']]\n"
     ]
    }
   ],
   "source": [
    "b=[]\n",
    "a={\"a\":\"apple\",\"b\":\"ball\"}\n",
    "for i in a.items():\n",
    "    if d[0]==\"a\":\n",
    "\n",
    "        d=list(i)\n",
    "        d[0]=\"A\"\n",
    "        b.append(d[0])\n",
    "    else:\n",
    "        b.append(list(i))\n",
    "print(b)"
   ]
  },
  {
   "cell_type": "code",
   "execution_count": 88,
   "metadata": {},
   "outputs": [
    {
     "data": {
      "text/plain": [
       "[{'ram': 984153}, {'shyam': 6846}]"
      ]
     },
     "execution_count": 88,
     "metadata": {},
     "output_type": "execute_result"
    }
   ],
   "source": [
    "a=[{\"ram\":984153},{\"shyam\":6846}]\n",
    "a"
   ]
  },
  {
   "cell_type": "code",
   "execution_count": 89,
   "metadata": {},
   "outputs": [
    {
     "data": {
      "text/plain": [
       "{'ram': 984153}"
      ]
     },
     "execution_count": 89,
     "metadata": {},
     "output_type": "execute_result"
    }
   ],
   "source": [
    "a[0]"
   ]
  },
  {
   "cell_type": "code",
   "execution_count": 93,
   "metadata": {},
   "outputs": [
    {
     "data": {
      "text/plain": [
       "[{'ram': 984153}, {'shyam': 6846}, {'hari': 8415}]"
      ]
     },
     "execution_count": 93,
     "metadata": {},
     "output_type": "execute_result"
    }
   ],
   "source": [
    "a.append({\"hari\":8415})\n",
    "a"
   ]
  },
  {
   "cell_type": "code",
   "execution_count": 97,
   "metadata": {},
   "outputs": [
    {
     "name": "stdout",
     "output_type": "stream",
     "text": [
      "ENter n=1\n",
      "enter name= l\n",
      "enter phone= 45\n",
      "[{'l': 45}]\n"
     ]
    }
   ],
   "source": [
    "z=[]\n",
    "n=int(input(\"ENter n=\"))\n",
    "for i in range(n):\n",
    "    name=input(\"enter name= \")\n",
    "    phone=int(input(\"enter phone= \"))\n",
    "    d={name:phone}\n",
    "    z.append(d)\n",
    "print(z)"
   ]
  },
  {
   "cell_type": "code",
   "execution_count": null,
   "metadata": {},
   "outputs": [],
   "source": []
  }
 ],
 "metadata": {
  "kernelspec": {
   "display_name": "Python 3",
   "language": "python",
   "name": "python3"
  },
  "language_info": {
   "codemirror_mode": {
    "name": "ipython",
    "version": 3
   },
   "file_extension": ".py",
   "mimetype": "text/x-python",
   "name": "python",
   "nbconvert_exporter": "python",
   "pygments_lexer": "ipython3",
   "version": "3.8.5"
  }
 },
 "nbformat": 4,
 "nbformat_minor": 4
}
