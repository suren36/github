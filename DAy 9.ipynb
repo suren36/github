{
 "cells": [
  {
   "cell_type": "code",
   "execution_count": 2,
   "metadata": {},
   "outputs": [
    {
     "name": "stdout",
     "output_type": "stream",
     "text": [
      "ENter name= milk\n",
      "enter quantity= 2\n",
      "enter price= 100\n",
      "[['apple', 100, 2, 200], ['banana', 200, 3, 600], ['milk', 100, 2, 200]]\n"
     ]
    }
   ],
   "source": [
    "name=input(\"ENter name= \")\n",
    "quantity=int(input(\"enter quantity= \"))\n",
    "price=int(input(\"enter price= \"))\n",
    "total=price*quantity\n",
    "          \n",
    "a=[[\"apple\",100,2,200],[\"banana\",200,3,600]]\n",
    "a.append([name,price,quantity,total])\n",
    "print(a)"
   ]
  },
  {
   "cell_type": "code",
   "execution_count": 6,
   "metadata": {},
   "outputs": [
    {
     "name": "stdout",
     "output_type": "stream",
     "text": [
      "Enter n = 2\n",
      "Enter name = ram\n",
      "Enter price = 2\n",
      "Enter quantity= 20\n"
     ]
    },
    {
     "ename": "TypeError",
     "evalue": "can only concatenate str (not \"list\") to str",
     "output_type": "error",
     "traceback": [
      "\u001b[1;31m---------------------------------------------------------------------------\u001b[0m",
      "\u001b[1;31mTypeError\u001b[0m                                 Traceback (most recent call last)",
      "\u001b[1;32m<ipython-input-6-a2ba969ef131>\u001b[0m in \u001b[0;36m<module>\u001b[1;34m\u001b[0m\n\u001b[0;32m     10\u001b[0m \u001b[1;33m\u001b[0m\u001b[0m\n\u001b[0;32m     11\u001b[0m     \u001b[0mall_total\u001b[0m \u001b[1;33m=\u001b[0m \u001b[0mall_total\u001b[0m\u001b[1;33m+\u001b[0m\u001b[0mtotal\u001b[0m\u001b[1;33m\u001b[0m\u001b[1;33m\u001b[0m\u001b[0m\n\u001b[1;32m---> 12\u001b[1;33m     \u001b[0ms\u001b[0m \u001b[1;33m=\u001b[0m \u001b[0ms\u001b[0m\u001b[1;33m+\u001b[0m\u001b[0mdata\u001b[0m\u001b[1;33m\u001b[0m\u001b[1;33m\u001b[0m\u001b[0m\n\u001b[0m\u001b[0;32m     13\u001b[0m \u001b[1;33m\u001b[0m\u001b[0m\n\u001b[0;32m     14\u001b[0m \u001b[0mprint\u001b[0m\u001b[1;33m(\u001b[0m\u001b[1;34m\"The billing is = \\n\"\u001b[0m\u001b[1;33m,\u001b[0m\u001b[0ms\u001b[0m\u001b[1;33m)\u001b[0m\u001b[1;33m\u001b[0m\u001b[1;33m\u001b[0m\u001b[0m\n",
      "\u001b[1;31mTypeError\u001b[0m: can only concatenate str (not \"list\") to str"
     ]
    }
   ],
   "source": [
    "s = \"\"\n",
    "all_total = 0\n",
    "n = int(input(\"Enter n = \"))\n",
    "for i in range(n):\n",
    "    product = input(\"Enter name = \")\n",
    "    price = int(input(\"Enter price = \"))\n",
    "    quantity = int(input(\"Enter quantity= \"))\n",
    "    total = price*quantity\n",
    "    data = [\"[product,price,quantity,total]\"]\n",
    "    \n",
    "    all_total = all_total+total\n",
    "    s = s+data\n",
    "    \n",
    "print(\"The billing is = \\n\",s)\n",
    "print(\"The total = \",all_total)"
   ]
  },
  {
   "cell_type": "code",
   "execution_count": 9,
   "metadata": {},
   "outputs": [
    {
     "name": "stdout",
     "output_type": "stream",
     "text": [
      "[['apple,100,2,200']]\n"
     ]
    }
   ],
   "source": [
    "s=[[\"apple,100,2,200\"],[\"banana,200,3,600\"]]\n",
    "del s[1]\n",
    "print(s)"
   ]
  },
  {
   "cell_type": "code",
   "execution_count": 12,
   "metadata": {},
   "outputs": [
    {
     "ename": "SyntaxError",
     "evalue": "invalid syntax (<ipython-input-12-6f449fa12b65>, line 1)",
     "output_type": "error",
     "traceback": [
      "\u001b[1;36m  File \u001b[1;32m\"<ipython-input-12-6f449fa12b65>\"\u001b[1;36m, line \u001b[1;32m1\u001b[0m\n\u001b[1;33m    total=\u001b[0m\n\u001b[1;37m          ^\u001b[0m\n\u001b[1;31mSyntaxError\u001b[0m\u001b[1;31m:\u001b[0m invalid syntax\n"
     ]
    }
   ],
   "source": [
    "total=\n",
    "for i in s:\n",
    "        x=i[3]\n",
    "        \n",
    "print(total)"
   ]
  },
  {
   "cell_type": "code",
   "execution_count": 2,
   "metadata": {},
   "outputs": [
    {
     "ename": "NameError",
     "evalue": "name 'iput' is not defined",
     "output_type": "error",
     "traceback": [
      "\u001b[1;31m---------------------------------------------------------------------------\u001b[0m",
      "\u001b[1;31mNameError\u001b[0m                                 Traceback (most recent call last)",
      "\u001b[1;32m<ipython-input-2-283a6ff8cb46>\u001b[0m in \u001b[0;36m<module>\u001b[1;34m\u001b[0m\n\u001b[0;32m      3\u001b[0m \u001b[1;32mfor\u001b[0m  \u001b[0mi\u001b[0m \u001b[1;32min\u001b[0m \u001b[0ms\u001b[0m\u001b[1;33m:\u001b[0m\u001b[1;33m\u001b[0m\u001b[1;33m\u001b[0m\u001b[0m\n\u001b[0;32m      4\u001b[0m     \u001b[0mx\u001b[0m\u001b[1;33m=\u001b[0m\u001b[0mi\u001b[0m\u001b[1;33m[\u001b[0m\u001b[1;36m2\u001b[0m\u001b[1;33m]\u001b[0m\u001b[1;33m\u001b[0m\u001b[1;33m\u001b[0m\u001b[0m\n\u001b[1;32m----> 5\u001b[1;33m     \u001b[0mx\u001b[0m\u001b[1;33m=\u001b[0m\u001b[0mint\u001b[0m\u001b[1;33m(\u001b[0m\u001b[0miput\u001b[0m\u001b[1;33m(\u001b[0m\u001b[1;34m\"enter the no of quantity= \"\u001b[0m\u001b[1;33m)\u001b[0m\u001b[1;33m)\u001b[0m\u001b[1;33m\u001b[0m\u001b[1;33m\u001b[0m\u001b[0m\n\u001b[0m\u001b[0;32m      6\u001b[0m     \u001b[0mtotal\u001b[0m\u001b[1;33m=\u001b[0m\u001b[0mi\u001b[0m\u001b[1;33m[\u001b[0m\u001b[1;36m2\u001b[0m\u001b[1;33m]\u001b[0m\u001b[1;33m*\u001b[0m\u001b[0mtotal\u001b[0m\u001b[1;33m\u001b[0m\u001b[1;33m\u001b[0m\u001b[0m\n\u001b[0;32m      7\u001b[0m \u001b[0mprint\u001b[0m\u001b[1;33m(\u001b[0m\u001b[0mi\u001b[0m\u001b[1;33m)\u001b[0m\u001b[1;33m\u001b[0m\u001b[1;33m\u001b[0m\u001b[0m\n",
      "\u001b[1;31mNameError\u001b[0m: name 'iput' is not defined"
     ]
    }
   ],
   "source": [
    "total=0\n",
    "s=[[\"apple\",100,2,200],[\"banana\",200,3,600],[\"milk\",100,3,300]]\n",
    "for  i in s:\n",
    "    x=i[2]\n",
    "    x=int(input(\"enter the no of quantity= \"))\n",
    "    total=i[2]*total\n",
    "print(i)\n"
   ]
  },
  {
   "cell_type": "code",
   "execution_count": 11,
   "metadata": {},
   "outputs": [
    {
     "name": "stdout",
     "output_type": "stream",
     "text": [
      "enter index= 2\n",
      "ENter quantity= 32\n",
      "total bill=  4000\n"
     ]
    }
   ],
   "source": [
    "\n",
    "\n",
    "s=[[\"apple\",100,3,200],[\"banana\",200,3,600],[\"milk\",100,3,300]]\n",
    "index=int(input(\"enter index= \"))\n",
    "quantity=int(input(\"ENter quantity= \"))\n",
    "total=s[index][1]*quantity\n",
    "\n",
    "s[index][2]=quantity\n",
    "s[index][3]=total\n",
    "all_total=0\n",
    "for i in s:\n",
    "     x=i[3]  \n",
    "     all_total=x+all_total\n",
    "print(\"total bill= \",all_total)"
   ]
  },
  {
   "cell_type": "code",
   "execution_count": 1,
   "metadata": {},
   "outputs": [
    {
     "name": "stdout",
     "output_type": "stream",
     "text": [
      "enter i= 2\n",
      "enter j= 2\n",
      "enter x= 2\n",
      "enter x= 2\n",
      "enter x= 2\n",
      "enter x= 2\n",
      "[[2, 2], [2, 2]]\n"
     ]
    }
   ],
   "source": [
    "z=[]\n",
    "r=int(input(\"enter i= \"))\n",
    "c=int(input(\"enter j= \"))\n",
    "for i in range(r):\n",
    "    y=[]\n",
    "    \n",
    "    for j in range(c):\n",
    "        x=int(input(\"enter x= \"))\n",
    "       \n",
    "        y.append(x) \n",
    "        \n",
    "    z.append(y)\n",
    "\n",
    "    \n",
    "    \n",
    "    \n",
    "    \n",
    "print(z)\n",
    "\n"
   ]
  },
  {
   "cell_type": "markdown",
   "metadata": {},
   "source": [
    "##### 2## "
   ]
  }
 ],
 "metadata": {
  "kernelspec": {
   "display_name": "Python 3",
   "language": "python",
   "name": "python3"
  },
  "language_info": {
   "codemirror_mode": {
    "name": "ipython",
    "version": 3
   },
   "file_extension": ".py",
   "mimetype": "text/x-python",
   "name": "python",
   "nbconvert_exporter": "python",
   "pygments_lexer": "ipython3",
   "version": "3.8.5"
  }
 },
 "nbformat": 4,
 "nbformat_minor": 4
}
