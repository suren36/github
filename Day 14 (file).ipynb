{
 "cells": [
  {
   "cell_type": "code",
   "execution_count": 2,
   "metadata": {},
   "outputs": [
    {
     "name": "stdout",
     "output_type": "stream",
     "text": [
      "the fle is already there\n"
     ]
    }
   ],
   "source": [
    "try:\n",
    "    b=open(\"class1030am.txt\",\"x\")\n",
    "    b.close()\n",
    "except:\n",
    "    print(\"the fle is already there\")\n",
    "    "
   ]
  },
  {
   "cell_type": "code",
   "execution_count": 9,
   "metadata": {},
   "outputs": [
    {
     "name": "stdout",
     "output_type": "stream",
     "text": [
      "<class 'str'>\n",
      "heloo mothefucker\n"
     ]
    }
   ],
   "source": [
    "b=open(\"class1030am.txt\",\"r\")\n",
    "c=b.read()\n",
    "print(type(c))\n",
    "print(c)\n",
    "b.close()"
   ]
  },
  {
   "cell_type": "code",
   "execution_count": 10,
   "metadata": {},
   "outputs": [
    {
     "name": "stdout",
     "output_type": "stream",
     "text": [
      "heloo mothefucker\n"
     ]
    }
   ],
   "source": [
    "#readline()\n",
    "b.readline\n",
    "print(c)\n",
    "b.close()"
   ]
  },
  {
   "cell_type": "code",
   "execution_count": 27,
   "metadata": {},
   "outputs": [],
   "source": [
    "b=open(\"class1030am.txt\",\"r\")\n",
    "\n",
    "c=b.read()\n",
    "e=(c.split(\"\\n\"))\n",
    "b.close()"
   ]
  },
  {
   "cell_type": "code",
   "execution_count": 52,
   "metadata": {},
   "outputs": [
    {
     "data": {
      "text/plain": [
       "['',\n",
       " 'heloo mothefucker',\n",
       " 'heloo mothefucker',\n",
       " 'heloo mothefucker',\n",
       " 'heloo mothefucker']"
      ]
     },
     "execution_count": 52,
     "metadata": {},
     "output_type": "execute_result"
    }
   ],
   "source": [
    "e[40::-1]"
   ]
  },
  {
   "cell_type": "code",
   "execution_count": 57,
   "metadata": {},
   "outputs": [
    {
     "name": "stdout",
     "output_type": "stream",
     "text": [
      "enter n= 2\n",
      "2heloo mothefucker\n",
      "\n"
     ]
    }
   ],
   "source": [
    "b=open(\"class1030am.txt\",\"r\")\n",
    "#c=b.read\n",
    "n=int(input(\"enter n= \"))\n",
    "for i in range(1,8):\n",
    "    if i !=n:\n",
    "        b.readline()\n",
    "    else:\n",
    "        print(b.readline())\n",
    "b.close()"
   ]
  },
  {
   "cell_type": "code",
   "execution_count": 62,
   "metadata": {},
   "outputs": [
    {
     "name": "stdout",
     "output_type": "stream",
     "text": [
      "enter n= 2\n",
      "enter namesd\n",
      "enter pone= 2\n",
      "enter nameds\n",
      "enter pone= 2\n",
      "sd--2\n",
      "ds--2\n",
      "\n"
     ]
    }
   ],
   "source": [
    "s=\"\"\n",
    "n=int(input(\"enter n= \"))\n",
    "for i in range(n):\n",
    "    name=input(\"enter name\")\n",
    "    phone=int(input(\"enter pone= \"))\n",
    "    info=f\"{name}--{phone}\\n\"\n",
    "    s=s+info\n",
    "print(s)\n",
    "b=open(\"data.txt\",\"w\")\n",
    "b.write(s)\n",
    "b.close()"
   ]
  },
  {
   "cell_type": "code",
   "execution_count": 64,
   "metadata": {},
   "outputs": [
    {
     "name": "stdout",
     "output_type": "stream",
     "text": [
      "enter n= 2\n",
      "enter namesad\n",
      "enter pone= 2\n",
      "enter namesad\n",
      "enter pone= 2\n",
      "sad--2\n",
      "sad--2\n",
      "\n"
     ]
    }
   ],
   "source": [
    "b=open(\"class1030am.csv\",\"w\")\n",
    "b.write(\"Name,phone\\n\")\n",
    "s=\"\"\n",
    "n=int(input(\"enter n= \"))\n",
    "for i in range(n):\n",
    "    name=input(\"enter name\")\n",
    "    phone=int(input(\"enter pone= \"))\n",
    "    info=f\"{name},{phone}\\n\"\n",
    "    s=s+info\n",
    "print(s)\n",
    "\n",
    "b.write(s)\n",
    "b.close()"
   ]
  },
  {
   "cell_type": "code",
   "execution_count": null,
   "metadata": {},
   "outputs": [],
   "source": []
  },
  {
   "cell_type": "code",
   "execution_count": null,
   "metadata": {},
   "outputs": [],
   "source": []
  }
 ],
 "metadata": {
  "kernelspec": {
   "display_name": "Python 3",
   "language": "python",
   "name": "python3"
  },
  "language_info": {
   "codemirror_mode": {
    "name": "ipython",
    "version": 3
   },
   "file_extension": ".py",
   "mimetype": "text/x-python",
   "name": "python",
   "nbconvert_exporter": "python",
   "pygments_lexer": "ipython3",
   "version": "3.8.5"
  }
 },
 "nbformat": 4,
 "nbformat_minor": 4
}
