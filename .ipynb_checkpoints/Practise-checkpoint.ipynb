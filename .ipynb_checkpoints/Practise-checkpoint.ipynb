{
 "cells": [
  {
   "cell_type": "code",
   "execution_count": 2,
   "metadata": {
    "scrolled": false
   },
   "outputs": [
    {
     "name": "stdout",
     "output_type": "stream",
     "text": [
      "Enter a= 4\n",
      "enter b= 4\n",
      "Enter operator + - * /  /\n",
      "1.0\n"
     ]
    }
   ],
   "source": [
    "#program using return type function\n",
    "def add(a,b):\n",
    "    print(\"the answer is  \")\n",
    "    return a+b\n",
    "def sub(a,b):\n",
    "    print(\"the answer is  \")\n",
    "    return a-b\n",
    "def multiply(a,b):\n",
    "     print(\"the answer is  \")\n",
    "    return a*b\n",
    "def divide(a,b):\n",
    "     print(\"the answer is  \")\n",
    "    return a/b \n",
    "\n",
    "a=int(input(\"Enter a= \"))\n",
    "b=int(input(\"enter b= \"))\n",
    "o=input(\"Enter operator + - * /  \")\n",
    "if o=='+':\n",
    "    print(add(a,b))\n",
    "elif o=='-':\n",
    "    print(sub(a,b))\n",
    "elif o=='*':\n",
    "    print(multiply(a,b))\n",
    "elif o=='/':\n",
    "    if b!=0:\n",
    "        print(a/b)\n",
    "    else:\n",
    "        print(\"the value of b cannot  be zero\")\n",
    "else:\n",
    "    print(\"Invalid value\")\n",
    "    \n"
   ]
  },
  {
   "cell_type": "code",
   "execution_count": 10,
   "metadata": {
    "scrolled": true
   },
   "outputs": [
    {
     "name": "stdout",
     "output_type": "stream",
     "text": [
      "Enter a= 4\n",
      "Enter b= 2\n",
      "Enter operator + - * /  -\n",
      "talai chaiyeko answer tala xha \n",
      "2\n"
     ]
    }
   ],
   "source": [
    "def add(a,b):\n",
    "    print(\"talai chaiyeko answer tala xha \")\n",
    "    return a+b\n",
    "def sub(a,b):\n",
    "    print(\"talai chaiyeko answer tala xha \")\n",
    "    return a-b\n",
    "def multiply(a,b):\n",
    "    print(\"talai chaiyeko answer tala xha \")\n",
    "    return a*b\n",
    "def divide(a,b):\n",
    "    print(\"talai chaiyeko answer tala xha \")\n",
    "    return a/b \n",
    "\n",
    "a=int(input(\"Enter a= \"))\n",
    "b=int(input(\"Enter b= \"))\n",
    "o=input(\"Enter operator + - * /  \")\n",
    "if o=='+':\n",
    "    print(add(a,b))\n",
    "elif o=='-':\n",
    "    print(sub(a,b))\n",
    "elif o=='*':\n",
    "    print(multiply(a,b))\n",
    "elif o=='/':\n",
    "    if b!=0:\n",
    "        print(divide(a,b))\n",
    "    else:\n",
    "        print(\"mula milnea value rakh\")\n",
    "else:\n",
    "    print(\"milena muji\")"
   ]
  },
  {
   "cell_type": "code",
   "execution_count": 1,
   "metadata": {},
   "outputs": [
    {
     "name": "stdout",
     "output_type": "stream",
     "text": [
      "ebter a= 4\n",
      "ebter b= 5\n",
      "Enter operator + - * / \n",
      " operator use is = \n",
      "invalid operator\n",
      "enter y for more print = y\n",
      "ebter a= 4\n",
      "ebter b= 4\n",
      "Enter operator + - * / \n",
      " operator use is = *\n",
      "16\n",
      "enter y for more print = n\n"
     ]
    }
   ],
   "source": [
    "# program using recursive function for simple calculator\n",
    "def call():\n",
    "    a=int(input(\"ebter a= \"))\n",
    "    b=int(input(\"ebter b= \"))\n",
    "    o=input(\"Enter operator + - * / \\n operator use is = \")\n",
    "    if o=='+':\n",
    "        print(a+b)\n",
    "    elif o=='-':\n",
    "        print(a-b)\n",
    "\n",
    "    elif o=='*':    \n",
    "     print(a*b)\n",
    "    elif o=='/':\n",
    "        if b!=0:\n",
    "            print(a/b)\n",
    "    else:\n",
    "        print(\"invalid operator\") \n",
    "    x=input(\"enter y for more print = \")\n",
    "    if x==\"y\":\n",
    "        call()\n",
    "        \n",
    "call()"
   ]
  },
  {
   "cell_type": "code",
   "execution_count": null,
   "metadata": {},
   "outputs": [],
   "source": []
  },
  {
   "cell_type": "code",
   "execution_count": null,
   "metadata": {},
   "outputs": [],
   "source": []
  }
 ],
 "metadata": {
  "kernelspec": {
   "display_name": "Python 3",
   "language": "python",
   "name": "python3"
  },
  "language_info": {
   "codemirror_mode": {
    "name": "ipython",
    "version": 3
   },
   "file_extension": ".py",
   "mimetype": "text/x-python",
   "name": "python",
   "nbconvert_exporter": "python",
   "pygments_lexer": "ipython3",
   "version": "3.8.5"
  }
 },
 "nbformat": 4,
 "nbformat_minor": 4
}
