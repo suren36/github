{
 "cells": [
  {
   "cell_type": "code",
   "execution_count": 3,
   "metadata": {},
   "outputs": [],
   "source": [
    "class Hello:\n",
    "    pass\n",
    "obj=Hello()"
   ]
  },
  {
   "cell_type": "code",
   "execution_count": 4,
   "metadata": {},
   "outputs": [
    {
     "name": "stdout",
     "output_type": "stream",
     "text": [
      "Hello World\n"
     ]
    }
   ],
   "source": [
    "class Hello:\n",
    "    print(\"Hello World\")\n",
    "obj=Hello()"
   ]
  },
  {
   "cell_type": "code",
   "execution_count": 10,
   "metadata": {},
   "outputs": [
    {
     "name": "stdout",
     "output_type": "stream",
     "text": [
      "Hello world\n"
     ]
    }
   ],
   "source": [
    "class Hello:\n",
    "    def hello(self): \n",
    "        print(\"Hello world\")\n",
    "obj=Hello()\n",
    "obj.hello()  "
   ]
  },
  {
   "cell_type": "code",
   "execution_count": 18,
   "metadata": {},
   "outputs": [
    {
     "name": "stdout",
     "output_type": "stream",
     "text": [
      "enter l = 4\n",
      "enter b =4\n",
      "enter h =4\n",
      "the area is = 16\n",
      "the volume is=  64\n"
     ]
    }
   ],
   "source": [
    "class Cal:\n",
    "    def area(self,l,b):\n",
    "        a=l*b\n",
    "        print(\"the area is =\",a)\n",
    "    def volume(self,l,b,h):\n",
    "        v=l*b*h\n",
    "        print(\"the volume is= \",v)\n",
    "obj =Cal()\n",
    "l=int(input(\"enter l = \"))\n",
    "b=int(input(\"enter b =\" ))\n",
    "h=int(input(\"enter h =\" ))\n",
    "obj.area(l,b)\n",
    "obj.volume(l,b,h)"
   ]
  },
  {
   "cell_type": "code",
   "execution_count": 20,
   "metadata": {},
   "outputs": [
    {
     "name": "stdout",
     "output_type": "stream",
     "text": [
      "enter l = 2\n",
      "enter b =2\n",
      "enter h =2\n",
      "the area is = 4\n",
      "the volume is=  8\n"
     ]
    }
   ],
   "source": [
    "class Area:\n",
    "    def area(self,l,b):\n",
    "        a=l*b\n",
    "        print(\"the area is =\",a)\n",
    "class Volume:\n",
    "    def volume(self,l,b,h):\n",
    "        v=l*b*h\n",
    "        print(\"the volume is= \",v)\n",
    "obj =Area()\n",
    "obj1 =Volume()\n",
    "\n",
    "l=int(input(\"enter l = \"))\n",
    "b=int(input(\"enter b =\" ))\n",
    "h=int(input(\"enter h =\" ))\n",
    "obj.area(l,b)\n",
    "obj1.volume(l,b,h)"
   ]
  },
  {
   "cell_type": "code",
   "execution_count": null,
   "metadata": {},
   "outputs": [],
   "source": []
  }
 ],
 "metadata": {
  "kernelspec": {
   "display_name": "Python 3",
   "language": "python",
   "name": "python3"
  },
  "language_info": {
   "codemirror_mode": {
    "name": "ipython",
    "version": 3
   },
   "file_extension": ".py",
   "mimetype": "text/x-python",
   "name": "python",
   "nbconvert_exporter": "python",
   "pygments_lexer": "ipython3",
   "version": "3.8.5"
  }
 },
 "nbformat": 4,
 "nbformat_minor": 4
}
