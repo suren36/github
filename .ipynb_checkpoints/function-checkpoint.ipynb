{
 "cells": [
  {
   "cell_type": "code",
   "execution_count": 1,
   "metadata": {},
   "outputs": [],
   "source": [
    "# def <function_name>():\n",
    "#     <operations>\n",
    "#     ...\n",
    "#     ...\n",
    "    \n",
    "# <function_name>()\n",
    "    "
   ]
  },
  {
   "cell_type": "code",
   "execution_count": 3,
   "metadata": {},
   "outputs": [
    {
     "name": "stdout",
     "output_type": "stream",
     "text": [
      "Hello Wolrd\n"
     ]
    }
   ],
   "source": [
    "def hello():\n",
    "    print(\"Hello Wolrd\")\n",
    "    \n",
    "    \n",
    "hello()"
   ]
  },
  {
   "cell_type": "code",
   "execution_count": 2,
   "metadata": {},
   "outputs": [
    {
     "name": "stdout",
     "output_type": "stream",
     "text": [
      "Hello Wolrd\n"
     ]
    }
   ],
   "source": [
    "def Print():\n",
    "    print(\"Hello Wolrd\")\n",
    "    \n",
    "    \n",
    "Print()"
   ]
  },
  {
   "cell_type": "code",
   "execution_count": 2,
   "metadata": {},
   "outputs": [
    {
     "name": "stdout",
     "output_type": "stream",
     "text": [
      "Hello Wolrd\n"
     ]
    }
   ],
   "source": [
    "def hello():\n",
    "    print(\"Hello Wolrd\")\n",
    "    \n",
    "hello()\n",
    "   "
   ]
  },
  {
   "cell_type": "code",
   "execution_count": 2,
   "metadata": {},
   "outputs": [
    {
     "name": "stdout",
     "output_type": "stream",
     "text": [
      "Enter l = 100\n",
      "Enter b = 23\n",
      "2300\n"
     ]
    }
   ],
   "source": [
    "def area():\n",
    "    l = int(input(\"Enter l = \"))  #local variable\n",
    "    b = int(input(\"Enter b = \"))\n",
    "    a = l*b\n",
    "    print(a)\n",
    "area()\n",
    "# print(a)"
   ]
  },
  {
   "cell_type": "code",
   "execution_count": 6,
   "metadata": {},
   "outputs": [
    {
     "name": "stdout",
     "output_type": "stream",
     "text": [
      "Enter l = 100\n",
      "Enter b = 23\n",
      "2300\n"
     ]
    }
   ],
   "source": [
    "# function with no arguments and no return type\n",
    "l = int(input(\"Enter l = \"))  #global variable\n",
    "b = int(input(\"Enter b = \"))\n",
    "\n",
    "def area():\n",
    "    global a\n",
    "    a = l*b\n",
    "area()\n",
    "print(a)"
   ]
  },
  {
   "cell_type": "code",
   "execution_count": 7,
   "metadata": {},
   "outputs": [],
   "source": [
    "# function with no arguments and no return type\n",
    "# function with arguments and no return type\n",
    "# function with no arguments and return type\n",
    "# function with arguments and return type"
   ]
  },
  {
   "cell_type": "code",
   "execution_count": 8,
   "metadata": {},
   "outputs": [
    {
     "name": "stdout",
     "output_type": "stream",
     "text": [
      "Hello World\n"
     ]
    }
   ],
   "source": [
    "# function with arguments and no return type\n",
    "\n",
    "def hello(x):\n",
    "    print(x)\n",
    "\n",
    "hello(\"Hello World\")"
   ]
  },
  {
   "cell_type": "code",
   "execution_count": 9,
   "metadata": {},
   "outputs": [
    {
     "name": "stdout",
     "output_type": "stream",
     "text": [
      "Enter l = 100\n",
      "Enter b = 50\n",
      "5000\n"
     ]
    }
   ],
   "source": [
    "# function with arguments and no return type\n",
    "\n",
    "def area(x,y):\n",
    "    a = x*y\n",
    "    print(a)\n",
    "    \n",
    "l = int(input(\"Enter l = \"))\n",
    "b = int(input(\"Enter b = \"))\n",
    "\n",
    "area(l,b)\n"
   ]
  },
  {
   "cell_type": "code",
   "execution_count": null,
   "metadata": {},
   "outputs": [],
   "source": [
    "# function with arguments and no return type\n",
    "\n",
    "l = int(input(\"Enter l = \"))\n",
    "b = int(input(\"Enter b = \"))\n",
    "\n",
    "def area(x,y):\n",
    "    a = x*y\n",
    "    print(a)\n",
    "    \n",
    "\n",
    "area(l,b)"
   ]
  },
  {
   "cell_type": "code",
   "execution_count": 1,
   "metadata": {},
   "outputs": [
    {
     "name": "stdout",
     "output_type": "stream",
     "text": [
      "C\n",
      "C++\n",
      "Java\n",
      "Python\n"
     ]
    }
   ],
   "source": [
    "def language(lan = \"Python\"):\n",
    "    print(lan)\n",
    "    \n",
    "language('C')\n",
    "language('C++')\n",
    "language('Java')\n",
    "language()"
   ]
  },
  {
   "cell_type": "code",
   "execution_count": 2,
   "metadata": {},
   "outputs": [
    {
     "name": "stdout",
     "output_type": "stream",
     "text": [
      "Hello World\n"
     ]
    }
   ],
   "source": [
    "# function with no argument and return type\n",
    "def hello():\n",
    "    return \"Hello World\"\n",
    "\n",
    "print(hello())"
   ]
  },
  {
   "cell_type": "code",
   "execution_count": null,
   "metadata": {},
   "outputs": [],
   "source": [
    "# function with no argument and return type\n",
    "def hello():\n",
    "    return \"Hello World\"\n",
    "\n",
    "x = hello()\n",
    "print(x)"
   ]
  },
  {
   "cell_type": "code",
   "execution_count": null,
   "metadata": {},
   "outputs": [],
   "source": [
    "# function with no argument and return type\n",
    "\n",
    "def area():\n",
    "    l = 100\n",
    "    b = 20\n",
    "    a = l*b\n",
    "    return a\n",
    "\n",
    "ar = area()\n",
    "print(\"The area is = \",ar)\n",
    "h = 10\n",
    "v = ar*h\n",
    "print(v)"
   ]
  },
  {
   "cell_type": "code",
   "execution_count": null,
   "metadata": {},
   "outputs": [],
   "source": [
    "# function with no argument and return type\n",
    "\n",
    "def area(x,y):\n",
    "    a = x*y\n",
    "    return a\n",
    "\n",
    "l = 100\n",
    "b = 20\n",
    "\n",
    "ar = area(l,b)\n",
    "print(\"The area is = \",ar)\n",
    "h = 10\n",
    "v = ar*h\n",
    "print(v)"
   ]
  }
 ],
 "metadata": {
  "kernelspec": {
   "display_name": "Python 3",
   "language": "python",
   "name": "python3"
  },
  "language_info": {
   "codemirror_mode": {
    "name": "ipython",
    "version": 3
   },
   "file_extension": ".py",
   "mimetype": "text/x-python",
   "name": "python",
   "nbconvert_exporter": "python",
   "pygments_lexer": "ipython3",
   "version": "3.8.5"
  }
 },
 "nbformat": 4,
 "nbformat_minor": 2
}
