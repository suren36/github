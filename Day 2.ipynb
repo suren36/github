{
 "cells": [
  {
   "cell_type": "code",
   "execution_count": 1,
   "metadata": {},
   "outputs": [],
   "source": [
    "# def <function_name>():\n",
    "#     <operation>\n",
    "#     ...\n",
    "#     <function name>()"
   ]
  },
  {
   "cell_type": "code",
   "execution_count": 3,
   "metadata": {},
   "outputs": [
    {
     "name": "stdout",
     "output_type": "stream",
     "text": [
      "Hello World\n"
     ]
    }
   ],
   "source": [
    "def hello():\n",
    "    print(\"Hello World\")\n",
    "    \n",
    "hello()"
   ]
  },
  {
   "cell_type": "code",
   "execution_count": 1,
   "metadata": {},
   "outputs": [
    {
     "name": "stdout",
     "output_type": "stream",
     "text": [
      "Enter l= 4\n",
      "Enter b= 5\n",
      "20\n"
     ]
    }
   ],
   "source": [
    "def area():\n",
    "        l=int(input(\"Enter l= \")) #local variable\n",
    "        b=int(input(\"Enter b= \"))\n",
    "        a=l*b\n",
    "        print(a)\n",
    "area()\n",
    "\n",
    "                "
   ]
  },
  {
   "cell_type": "code",
   "execution_count": 27,
   "metadata": {},
   "outputs": [
    {
     "name": "stdout",
     "output_type": "stream",
     "text": [
      "enter l=4\n",
      "Enter b=4\n",
      "16\n",
      "16\n"
     ]
    }
   ],
   "source": [
    "l=int(input(\"enter l=\"))  #global variable\n",
    "b=int(input(\"Enter b=\"))  # function witn no argument and no return type\n",
    "\n",
    "\n",
    "def area():\n",
    "    global a \n",
    "    a=l*b\n",
    "    print(a)\n",
    "area()\n",
    "print(a)\n"
   ]
  },
  {
   "cell_type": "code",
   "execution_count": 28,
   "metadata": {},
   "outputs": [],
   "source": [
    "# function witn no argument and no return type\n",
    "# function witn  argument and no return type\n",
    "# function witn no argument and  return type\n",
    "# function witn  argument and no return type"
   ]
  },
  {
   "cell_type": "code",
   "execution_count": 39,
   "metadata": {},
   "outputs": [
    {
     "name": "stdout",
     "output_type": "stream",
     "text": [
      "Enter l=4\n",
      "Enter b=4\n",
      "16\n"
     ]
    }
   ],
   "source": [
    "def area(a,b):\n",
    "    a=l*b\n",
    "    print(a)\n",
    "l=int(input(\"Enter l=\"))\n",
    "b=int(input(\"Enter b=\"))\n",
    "\n",
    "area(l,b)"
   ]
  },
  {
   "cell_type": "code",
   "execution_count": 41,
   "metadata": {},
   "outputs": [
    {
     "name": "stdout",
     "output_type": "stream",
     "text": [
      "enter l=4\n",
      "enter b=4\n",
      "16\n"
     ]
    }
   ],
   "source": [
    "# function witn  argument and no return type\n",
    "l=int(input(\"enter l=\"))\n",
    "b=int(input(\"enter b=\"))\n",
    "def area(x,y):\n",
    "    a=x*y\n",
    "    print(a)\n",
    "area(l,b)    "
   ]
  },
  {
   "cell_type": "code",
   "execution_count": 46,
   "metadata": {},
   "outputs": [
    {
     "name": "stdout",
     "output_type": "stream",
     "text": [
      "c\n",
      "c++\n",
      "java\n",
      "python\n",
      "python\n"
     ]
    }
   ],
   "source": [
    "def language(lan=\"python\"):\n",
    "    print(lan)\n",
    "    \n",
    "language('c')\n",
    "language('c++')\n",
    "language('java')\n",
    "language()\n",
    "a=language()"
   ]
  },
  {
   "cell_type": "code",
   "execution_count": 48,
   "metadata": {},
   "outputs": [
    {
     "name": "stdout",
     "output_type": "stream",
     "text": [
      "hello world\n"
     ]
    }
   ],
   "source": [
    "#function with no argument and return type\n",
    "def hello():\n",
    "    return \"hello world\"\n",
    "print(hello())"
   ]
  },
  {
   "cell_type": "code",
   "execution_count": 50,
   "metadata": {},
   "outputs": [
    {
     "name": "stdout",
     "output_type": "stream",
     "text": [
      "hello world\n"
     ]
    }
   ],
   "source": [
    "def hello():\n",
    "    return \"hello world\"\n",
    "\n",
    "x=hello()\n",
    "print(x)\n"
   ]
  },
  {
   "cell_type": "code",
   "execution_count": 51,
   "metadata": {},
   "outputs": [
    {
     "name": "stdout",
     "output_type": "stream",
     "text": [
      "area is = 20000\n",
      "200000\n"
     ]
    }
   ],
   "source": [
    "#function with no argument and return type\n",
    "def area():\n",
    "    l=100\n",
    "    b=200\n",
    "    a=l*b\n",
    "    return a\n",
    "ar=area()\n",
    "print(\"area is =\",ar)\n",
    "h=10\n",
    "v=ar*h\n",
    "print(v)"
   ]
  },
  {
   "cell_type": "code",
   "execution_count": 3,
   "metadata": {
    "scrolled": true
   },
   "outputs": [
    {
     "name": "stdout",
     "output_type": "stream",
     "text": [
      " is = (100, 20)\n",
      "(100, 20, 100, 20, 100, 20, 100, 20, 100, 20, 100, 20, 100, 20, 100, 20, 100, 20, 100, 20)\n"
     ]
    }
   ],
   "source": [
    "def S(x,y):\n",
    "   \n",
    "    a=x*y\n",
    "    return a\n",
    "l=100\n",
    "b=20\n",
    "ar=(l,b)\n",
    "print(\" is =\",ar)\n",
    "h=10\n",
    "v=ar*h\n",
    "print(v)"
   ]
  },
  {
   "cell_type": "code",
   "execution_count": null,
   "metadata": {},
   "outputs": [],
   "source": []
  }
 ],
 "metadata": {
  "kernelspec": {
   "display_name": "Python 3",
   "language": "python",
   "name": "python3"
  },
  "language_info": {
   "codemirror_mode": {
    "name": "ipython",
    "version": 3
   },
   "file_extension": ".py",
   "mimetype": "text/x-python",
   "name": "python",
   "nbconvert_exporter": "python",
   "pygments_lexer": "ipython3",
   "version": "3.8.5"
  }
 },
 "nbformat": 4,
 "nbformat_minor": 4
}
