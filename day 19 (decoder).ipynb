{
 "cells": [
  {
   "cell_type": "code",
   "execution_count": 5,
   "metadata": {},
   "outputs": [
    {
     "name": "stdout",
     "output_type": "stream",
     "text": [
      "hello world\n"
     ]
    }
   ],
   "source": [
    "def outer_function(fun):\n",
    "    def inner_function():\n",
    "        x=fun()\n",
    "    return inner_function()\n",
    "@outer_function\n",
    "def hello():\n",
    "    print(\"hello world\")\n"
   ]
  },
  {
   "cell_type": "code",
   "execution_count": 9,
   "metadata": {},
   "outputs": [
    {
     "data": {
      "text/plain": [
       "'hello world'"
      ]
     },
     "execution_count": 9,
     "metadata": {},
     "output_type": "execute_result"
    }
   ],
   "source": [
    "def string(function):\n",
    "    def wrapper():\n",
    "        fun=function()\n",
    "        x=fun.lower()\n",
    "        return x\n",
    "    return wrapper\n",
    "@string\n",
    "def info():\n",
    "    return \"Hello World\"\n",
    "info()"
   ]
  },
  {
   "cell_type": "code",
   "execution_count": 14,
   "metadata": {},
   "outputs": [
    {
     "data": {
      "text/plain": [
       "['hello', 'world']"
      ]
     },
     "execution_count": 14,
     "metadata": {},
     "output_type": "execute_result"
    }
   ],
   "source": [
    "def string(function):\n",
    "    def wrapper():\n",
    "        fun=function()\n",
    "        x=fun.lower()\n",
    "        return x\n",
    "    return wrapper\n",
    "def split_string(function):\n",
    "    def wrappe():\n",
    "        func=function()\n",
    "        splitted_string=func.split()\n",
    "        return splitted_string\n",
    "    return wrappe\n",
    "@split_string\n",
    "@string\n",
    "def info():\n",
    "    return \"Hello World\"\n",
    "info()"
   ]
  },
  {
   "cell_type": "code",
   "execution_count": null,
   "metadata": {},
   "outputs": [],
   "source": []
  }
 ],
 "metadata": {
  "kernelspec": {
   "display_name": "Python 3",
   "language": "python",
   "name": "python3"
  },
  "language_info": {
   "codemirror_mode": {
    "name": "ipython",
    "version": 3
   },
   "file_extension": ".py",
   "mimetype": "text/x-python",
   "name": "python",
   "nbconvert_exporter": "python",
   "pygments_lexer": "ipython3",
   "version": "3.8.5"
  }
 },
 "nbformat": 4,
 "nbformat_minor": 4
}
