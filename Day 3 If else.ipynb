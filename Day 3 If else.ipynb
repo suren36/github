{
 "cells": [
  {
   "cell_type": "code",
   "execution_count": 1,
   "metadata": {},
   "outputs": [
    {
     "ename": "SyntaxError",
     "evalue": "invalid syntax (<ipython-input-1-98f748ad2095>, line 1)",
     "output_type": "error",
     "traceback": [
      "\u001b[1;36m  File \u001b[1;32m\"<ipython-input-1-98f748ad2095>\"\u001b[1;36m, line \u001b[1;32m1\u001b[0m\n\u001b[1;33m    if <condition>{}\u001b[0m\n\u001b[1;37m       ^\u001b[0m\n\u001b[1;31mSyntaxError\u001b[0m\u001b[1;31m:\u001b[0m invalid syntax\n"
     ]
    }
   ],
   "source": [
    "# if <condition>{}\n",
    "#    <operation>\n",
    "    \n",
    "# elif<condition>:\n",
    "#     <operation>\n",
    "# elif<condition>:\n",
    "#     <operation>    \n",
    "# else:\n",
    "#     <operation>\n",
    "    \n",
    "    "
   ]
  },
  {
   "cell_type": "code",
   "execution_count": 2,
   "metadata": {},
   "outputs": [],
   "source": [
    "# < > <= >= == !=\n"
   ]
  },
  {
   "cell_type": "code",
   "execution_count": 11,
   "metadata": {},
   "outputs": [
    {
     "name": "stdout",
     "output_type": "stream",
     "text": [
      "20\n"
     ]
    }
   ],
   "source": [
    "a=10\n",
    "b=20\n",
    "if {a<b}:\n",
    "    print(b)\n",
    "else:\n",
    "    print(a)"
   ]
  },
  {
   "cell_type": "code",
   "execution_count": 12,
   "metadata": {},
   "outputs": [
    {
     "name": "stdout",
     "output_type": "stream",
     "text": [
      "ebter a= 5\n",
      "ebter b= 5\n",
      "bth ara equeal\n"
     ]
    }
   ],
   "source": [
    "a=int(input(\"ebter a= \"))\n",
    "b=int(input(\"ebter b= \"))\n",
    "if a>b:\n",
    "    print(\"a s greater\")\n",
    "elif b>a:\n",
    "    print(\"b is greater\")\n",
    "    \n",
    "else:\n",
    "    print(\"bth ara equeal\")"
   ]
  },
  {
   "cell_type": "code",
   "execution_count": 2,
   "metadata": {},
   "outputs": [
    {
     "name": "stdout",
     "output_type": "stream",
     "text": [
      "ebter a= 4\n",
      "ebter b= 4\n",
      "Enter operator + - * / \n",
      " operator use is = /\n",
      "1.0\n"
     ]
    }
   ],
   "source": [
    "a=int(input(\"ebter a= \"))\n",
    "b=int(input(\"ebter b= \"))\n",
    "o=input(\"Enter operator + - * / \\n operator use is = \")\n",
    "if o=='+':\n",
    "    print(a+b)\n",
    "    \n",
    "elif o=='-':\n",
    "    print(a-b)\n",
    "    \n",
    "elif o=='*':    \n",
    "    print(a*b)\n",
    "elif o=='/':\n",
    "    if b!=0:\n",
    "        print(a/b)\n",
    "    else:\n",
    "        print(\"the value of b cannot  be zero\")\n",
    "else:\n",
    "    print(\"invalid operator\")\n",
    "    "
   ]
  },
  {
   "cell_type": "code",
   "execution_count": 29,
   "metadata": {},
   "outputs": [
    {
     "name": "stdout",
     "output_type": "stream",
     "text": [
      "enter a =5\n",
      "enter b =2\n",
      "enter c =8\n",
      "c is greater\n"
     ]
    }
   ],
   "source": [
    "# and pr\n",
    "a=int(input(\"enter a =\"))\n",
    "b=int(input(\"enter b =\"))\n",
    "c=int(input(\"enter c =\"))\n",
    "if a>b and a>c:\n",
    "    print(\"a is greater\")\n",
    "elif b>a and b>c:\n",
    "    print(\"b is greater\")\n",
    "else:\n",
    "    print(\"c is greater\")\n",
    "    \n",
    "\n"
   ]
  },
  {
   "cell_type": "code",
   "execution_count": null,
   "metadata": {},
   "outputs": [],
   "source": [
    "#write a program  to make caculator using return type function\n"
   ]
  }
 ],
 "metadata": {
  "kernelspec": {
   "display_name": "Python 3",
   "language": "python",
   "name": "python3"
  },
  "language_info": {
   "codemirror_mode": {
    "name": "ipython",
    "version": 3
   },
   "file_extension": ".py",
   "mimetype": "text/x-python",
   "name": "python",
   "nbconvert_exporter": "python",
   "pygments_lexer": "ipython3",
   "version": "3.8.5"
  }
 },
 "nbformat": 4,
 "nbformat_minor": 4
}
